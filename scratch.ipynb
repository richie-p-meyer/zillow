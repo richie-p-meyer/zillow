{
 "cells": [
  {
   "cell_type": "code",
   "execution_count": 2,
   "id": "a6d5917c",
   "metadata": {},
   "outputs": [],
   "source": [
    "from prepare import calc_rmse\n",
    "import prepare\n",
    "import acquire\n",
    "\n",
    "\n",
    "import pandas as pd\n",
    "import numpy as np\n",
    "\n",
    "import matplotlib.pyplot as plt\n",
    "import seaborn as sns\n",
    "\n",
    "from math import sqrt\n",
    "\n",
    "# hypothesis testing\n",
    "from scipy import stats\n",
    "\n",
    "# modeling methods\n",
    "from sklearn.metrics import mean_squared_error\n",
    "from sklearn.linear_model import LinearRegression, LassoLars, TweedieRegressor\n",
    "from sklearn.preprocessing import PolynomialFeatures\n",
    "\n",
    "import warnings\n",
    "warnings.filterwarnings(\"ignore\")\n",
    "\n",
    "import plotly.express as px"
   ]
  },
  {
   "cell_type": "code",
   "execution_count": 3,
   "id": "1e3a669f",
   "metadata": {},
   "outputs": [],
   "source": [
    "df = acquire.get_zillow_2017()\n",
    "df = prepare.prepare_zillow(df)"
   ]
  },
  {
   "cell_type": "code",
   "execution_count": 4,
   "id": "f8c74b22",
   "metadata": {},
   "outputs": [],
   "source": [
    "train, X_train, y_train, X_val, y_val, X_test, y_test = prepare.split_data(df,'value')"
   ]
  },
  {
   "cell_type": "code",
   "execution_count": 5,
   "id": "95407627",
   "metadata": {},
   "outputs": [],
   "source": [
    "# Loop through X sets and apply new_features function\n",
    "X_sets = [X_train,X_val,X_test]\n",
    "for x in X_sets:\n",
    "    x = prepare.new_features(x)"
   ]
  },
  {
   "cell_type": "code",
   "execution_count": 6,
   "id": "8225d73f",
   "metadata": {},
   "outputs": [
    {
     "data": {
      "text/plain": [
       "((27495, 7),\n",
       " (27495, 9),\n",
       " (27495, 1),\n",
       " (11784, 9),\n",
       " (11784, 1),\n",
       " (9820, 9),\n",
       " (9820, 1))"
      ]
     },
     "execution_count": 6,
     "metadata": {},
     "output_type": "execute_result"
    }
   ],
   "source": [
    "train.shape, X_train.shape, y_train.shape, X_val.shape, y_val.shape, X_test.shape, y_test.shape"
   ]
  },
  {
   "cell_type": "markdown",
   "id": "f5ecab27",
   "metadata": {},
   "source": [
    "### Four Questions:  \n",
    "1. Are newer houses worth more?\n",
    "2. Does increasing the amount of beds and baths per squarefeet change the value?\n",
    "3. Does increasing lot size increase value?\n",
    "4. Does the percentage of house sq ft per lot sq ft change the value?"
   ]
  },
  {
   "cell_type": "markdown",
   "id": "942e26e6",
   "metadata": {},
   "source": [
    "# Are newer houses worth more?  \n",
    "Continuous vs continous = pearson R, scatter"
   ]
  },
  {
   "cell_type": "code",
   "execution_count": 7,
   "id": "a44579a5",
   "metadata": {},
   "outputs": [
    {
     "data": {
      "text/plain": [
       "<matplotlib.collections.PathCollection at 0x7fe7d9522280>"
      ]
     },
     "execution_count": 7,
     "metadata": {},
     "output_type": "execute_result"
    },
    {
     "data": {
      "image/png": "[encoded data removed]",
      "text/plain": [
       "<Figure size 432x288 with 1 Axes>"
      ]
     },
     "metadata": {
      "needs_background": "light"
     },
     "output_type": "display_data"
    }
   ],
   "source": [
    "#px.scatter(train.yearbuilt,train.value)\n",
    "plt.scatter(train.yearbuilt,train.value)\n"
   ]
  },
  {
   "cell_type": "code",
   "execution_count": 8,
   "id": "3f75271a",
   "metadata": {},
   "outputs": [
    {
     "data": {
      "text/plain": [
       "(0.15259505689885328, 6.925337850756379e-143)"
      ]
     },
     "execution_count": 8,
     "metadata": {},
     "output_type": "execute_result"
    }
   ],
   "source": [
    "corr, p = stats.pearsonr(train.yearbuilt, train.value)\n",
    "corr, p"
   ]
  },
  {
   "cell_type": "markdown",
   "id": "aed1d7c6",
   "metadata": {},
   "source": [
    "### It's hard to see correlation in the scatter plot but using pearsonsr confirms a relationship"
   ]
  },
  {
   "cell_type": "markdown",
   "id": "f184ac37",
   "metadata": {},
   "source": [
    "# Does increasing the amount of beds and baths per squarefeet change the value?"
   ]
  },
  {
   "cell_type": "code",
   "execution_count": 9,
   "id": "8df3e181",
   "metadata": {},
   "outputs": [],
   "source": [
    "train['bb_sqft'] = (train['bed']+train['bath'])/train['squarefeet']"
   ]
  },
  {
   "cell_type": "code",
   "execution_count": 10,
   "id": "62570642",
   "metadata": {},
   "outputs": [
    {
     "data": {
      "text/html": [
       "<div>\n",
       "<style scoped>\n",
       "    .dataframe tbody tr th:only-of-type {\n",
       "        vertical-align: middle;\n",
       "    }\n",
       "\n",
       "    .dataframe tbody tr th {\n",
       "        vertical-align: top;\n",
       "    }\n",
       "\n",
       "    .dataframe thead th {\n",
       "        text-align: right;\n",
       "    }\n",
       "</style>\n",
       "<table border=\"1\" class=\"dataframe\">\n",
       "  <thead>\n",
       "    <tr style=\"text-align: right;\">\n",
       "      <th></th>\n",
       "      <th>bed</th>\n",
       "      <th>bath</th>\n",
       "      <th>squarefeet</th>\n",
       "      <th>lotsquarefeet</th>\n",
       "      <th>value</th>\n",
       "      <th>yearbuilt</th>\n",
       "      <th>fips</th>\n",
       "      <th>bb_sqft</th>\n",
       "    </tr>\n",
       "  </thead>\n",
       "  <tbody>\n",
       "    <tr>\n",
       "      <th>10706</th>\n",
       "      <td>3.0</td>\n",
       "      <td>2.0</td>\n",
       "      <td>1181.0</td>\n",
       "      <td>5496.0</td>\n",
       "      <td>432736.0</td>\n",
       "      <td>1949.0</td>\n",
       "      <td>6037.0</td>\n",
       "      <td>0.004234</td>\n",
       "    </tr>\n",
       "    <tr>\n",
       "      <th>27627</th>\n",
       "      <td>3.0</td>\n",
       "      <td>2.0</td>\n",
       "      <td>1947.0</td>\n",
       "      <td>10000.0</td>\n",
       "      <td>410771.0</td>\n",
       "      <td>1982.0</td>\n",
       "      <td>6059.0</td>\n",
       "      <td>0.002568</td>\n",
       "    </tr>\n",
       "    <tr>\n",
       "      <th>25307</th>\n",
       "      <td>4.0</td>\n",
       "      <td>3.0</td>\n",
       "      <td>2281.0</td>\n",
       "      <td>5254.0</td>\n",
       "      <td>882500.0</td>\n",
       "      <td>1944.0</td>\n",
       "      <td>6037.0</td>\n",
       "      <td>0.003069</td>\n",
       "    </tr>\n",
       "    <tr>\n",
       "      <th>9519</th>\n",
       "      <td>3.0</td>\n",
       "      <td>1.0</td>\n",
       "      <td>1014.0</td>\n",
       "      <td>5731.0</td>\n",
       "      <td>348929.0</td>\n",
       "      <td>1950.0</td>\n",
       "      <td>6059.0</td>\n",
       "      <td>0.003945</td>\n",
       "    </tr>\n",
       "    <tr>\n",
       "      <th>6487</th>\n",
       "      <td>3.0</td>\n",
       "      <td>2.0</td>\n",
       "      <td>1701.0</td>\n",
       "      <td>49354.0</td>\n",
       "      <td>209051.0</td>\n",
       "      <td>1976.0</td>\n",
       "      <td>6037.0</td>\n",
       "      <td>0.002939</td>\n",
       "    </tr>\n",
       "  </tbody>\n",
       "</table>\n",
       "</div>"
      ],
      "text/plain": [
       "       bed  bath  squarefeet  lotsquarefeet     value  yearbuilt    fips  \\\n",
       "10706  3.0   2.0      1181.0         5496.0  432736.0     1949.0  6037.0   \n",
       "27627  3.0   2.0      1947.0        10000.0  410771.0     1982.0  6059.0   \n",
       "25307  4.0   3.0      2281.0         5254.0  882500.0     1944.0  6037.0   \n",
       "9519   3.0   1.0      1014.0         5731.0  348929.0     1950.0  6059.0   \n",
       "6487   3.0   2.0      1701.0        49354.0  209051.0     1976.0  6037.0   \n",
       "\n",
       "        bb_sqft  \n",
       "10706  0.004234  \n",
       "27627  0.002568  \n",
       "25307  0.003069  \n",
       "9519   0.003945  \n",
       "6487   0.002939  "
      ]
     },
     "execution_count": 10,
     "metadata": {},
     "output_type": "execute_result"
    }
   ],
   "source": [
    "train.head()"
   ]
  },
  {
   "cell_type": "code",
   "execution_count": 11,
   "id": "5c33a8b8",
   "metadata": {},
   "outputs": [
    {
     "data": {
      "text/plain": [
       "<matplotlib.collections.PathCollection at 0x7fe7d95edaf0>"
      ]
     },
     "execution_count": 11,
     "metadata": {},
     "output_type": "execute_result"
    },
    {
     "data": {
      "image/png": "[encoded data removed]",
      "text/plain": [
       "<Figure size 432x288 with 1 Axes>"
      ]
     },
     "metadata": {
      "needs_background": "light"
     },
     "output_type": "display_data"
    }
   ],
   "source": [
    "plt.scatter(train.bb_sqft,train.value)"
   ]
  },
  {
   "cell_type": "code",
   "execution_count": 12,
   "id": "5f4c3c2a",
   "metadata": {},
   "outputs": [
    {
     "data": {
      "text/plain": [
       "(-0.3488306419102324, 0.0)"
      ]
     },
     "execution_count": 12,
     "metadata": {},
     "output_type": "execute_result"
    }
   ],
   "source": [
    "corr, p = stats.pearsonr(train.bb_sqft, train.value)\n",
    "corr, p"
   ]
  },
  {
   "cell_type": "markdown",
   "id": "9d55c41b",
   "metadata": {},
   "source": [
    "### The plot looks like there might be a negative correlation between bb/sqft and value. Pearson R confirms this is the case"
   ]
  },
  {
   "cell_type": "markdown",
   "id": "2b75c7a4",
   "metadata": {},
   "source": [
    "# Does increasing lot size increase value?"
   ]
  },
  {
   "cell_type": "code",
   "execution_count": 13,
   "id": "54a722d3",
   "metadata": {},
   "outputs": [
    {
     "data": {
      "text/plain": [
       "<matplotlib.collections.PathCollection at 0x7fe7cbcf67f0>"
      ]
     },
     "execution_count": 13,
     "metadata": {},
     "output_type": "execute_result"
    },
    {
     "data": {
      "image/png": "[encoded data removed]",
      "text/plain": [
       "<Figure size 432x288 with 1 Axes>"
      ]
     },
     "metadata": {
      "needs_background": "light"
     },
     "output_type": "display_data"
    }
   ],
   "source": [
    "plt.scatter(train.lotsquarefeet,train.value)"
   ]
  },
  {
   "cell_type": "code",
   "execution_count": 14,
   "id": "fb5f5a77",
   "metadata": {},
   "outputs": [
    {
     "name": "stdout",
     "output_type": "stream",
     "text": [
      "alpha: 0.05\n",
      "p: 0.017784055224701837\n",
      "corr is positive and p<alpha so we can say that greater lotsquarefeet increases the value\n"
     ]
    }
   ],
   "source": [
    "alpha = .05\n",
    "corr, p = stats.pearsonr(train.lotsquarefeet, train.value)\n",
    "print(f'alpha: {alpha}')\n",
    "print(f'p: {p/2}')\n",
    "print('corr is positive and p<alpha so we can say that greater lotsquarefeet increases the value')\n",
    "\n"
   ]
  },
  {
   "cell_type": "markdown",
   "id": "cacc13b7",
   "metadata": {},
   "source": [
    "# Does the percentage of house sq ft per lot sq ft change the value?"
   ]
  },
  {
   "cell_type": "code",
   "execution_count": 15,
   "id": "2008c853",
   "metadata": {},
   "outputs": [],
   "source": [
    "train['hsf_lsf'] = train.squarefeet/train.lotsquarefeet"
   ]
  },
  {
   "cell_type": "code",
   "execution_count": 16,
   "id": "a12ef223",
   "metadata": {},
   "outputs": [
    {
     "data": {
      "text/plain": [
       "<matplotlib.collections.PathCollection at 0x7fe7d955ed90>"
      ]
     },
     "execution_count": 16,
     "metadata": {},
     "output_type": "execute_result"
    },
    {
     "data": {
      "image/png": "[encoded data removed]",
      "text/plain": [
       "<Figure size 432x288 with 1 Axes>"
      ]
     },
     "metadata": {
      "needs_background": "light"
     },
     "output_type": "display_data"
    }
   ],
   "source": [
    "plt.scatter(train.hsf_lsf,train.value)"
   ]
  },
  {
   "cell_type": "code",
   "execution_count": 17,
   "id": "1568c20f",
   "metadata": {},
   "outputs": [
    {
     "data": {
      "text/plain": [
       "(0.1967395748971063, 5.22842911744311e-238)"
      ]
     },
     "execution_count": 17,
     "metadata": {},
     "output_type": "execute_result"
    }
   ],
   "source": [
    "alpha = .05\n",
    "corr, p = stats.pearsonr(train.hsf_lsf, train.value)\n",
    "corr,p"
   ]
  },
  {
   "cell_type": "markdown",
   "id": "ca10a648",
   "metadata": {},
   "source": [
    "Houses that occupy a larger percentage of the lot size are worth more than when lot size is larger and house size smaller"
   ]
  },
  {
   "cell_type": "markdown",
   "id": "da7a1635",
   "metadata": {},
   "source": [
    "1. Are newer houses worth more?\n",
    "2. Does increasing the amount of beds and baths per squarefeet change the value?\n",
    "3. Does increasing lot size increase value?\n",
    "4. Does the percentage of house sq ft per lot sq ft change the value?"
   ]
  },
  {
   "cell_type": "markdown",
   "id": "9a4aa777",
   "metadata": {},
   "source": [
    "### Summary: All four features are drivers of value  \n",
    "House Age - beds&baths/sqft - lot size - housesqft to lotsqft"
   ]
  },
  {
   "cell_type": "markdown",
   "id": "113f0633",
   "metadata": {},
   "source": [
    "# Let's run some models!"
   ]
  },
  {
   "cell_type": "markdown",
   "id": "84cb2caa",
   "metadata": {},
   "source": [
    "### First let's scale our X_sets"
   ]
  },
  {
   "cell_type": "code",
   "execution_count": 18,
   "id": "2e234c5d",
   "metadata": {},
   "outputs": [],
   "source": [
    "train, validate, test = prepare.scale_minmax(X_train,X_val,X_test)\n",
    "    "
   ]
  },
  {
   "cell_type": "code",
   "execution_count": 19,
   "id": "28027ae5",
   "metadata": {},
   "outputs": [
    {
     "name": "stdout",
     "output_type": "stream",
     "text": [
      "RMSE Mean: \n",
      "482893.9318518764\n",
      "\n",
      "\n",
      "RMSE Median: \n",
      "493612.56497117813\n"
     ]
    }
   ],
   "source": [
    "# Establish baseline predictions \n",
    "y_train['base_mean'] = round(y_train.value.mean(),1)\n",
    "y_train['base_median'] = round(y_train.value.median(),1)\n",
    "\n",
    "# Evaluate baseline models using RMSE - we will use Mean as the baseline\n",
    "rmse_train_mean = calc_rmse(y_train.value,y_train.base_mean)\n",
    "rmse_train_median = calc_rmse(y_train.value, y_train.base_median)\n",
    "\n",
    "# Evaluate baseline on validate test\n",
    "y_val['baseline'] = round(y_train.value.mean(),1)\n",
    "baseline_val = calc_rmse(y_val.value,y_val.baseline)\n",
    "\n",
    "print('RMSE Mean: '),print(rmse_train_mean)\n",
    "print('\\n')\n",
    "print('RMSE Median: '),print(rmse_train_median)\n",
    "\n",
    "# Create a dict to store rmse values from our models\n",
    "mod = ['baseline']\n",
    "rmse = [rmse_train_mean]\n",
    "rmse_val = [baseline_val]"
   ]
  },
  {
   "cell_type": "code",
   "execution_count": 20,
   "id": "89dbc178",
   "metadata": {},
   "outputs": [],
   "source": [
    "# Transform our X_train and X_val set into polynomials of range 1-3\n",
    "pf1 = PolynomialFeatures(degree=1)\n",
    "X_train_pf1 = pf1.fit_transform(X_train)\n",
    "X_val_pf1 = pf1.fit_transform(X_val)\n",
    "\n",
    "pf2 = PolynomialFeatures(degree=2)\n",
    "X_train_pf2 = pf2.fit_transform(X_train)\n",
    "X_val_pf2 = pf2.fit_transform(X_val)\n",
    "\n",
    "pf3 = PolynomialFeatures(degree=3)\n",
    "X_train_pf3 = pf3.fit_transform(X_train)\n",
    "X_val_pf3 = pf3.fit_transform(X_val)\n",
    "X_test_pf3 = pf3.fit_transform(X_test)"
   ]
  },
  {
   "cell_type": "code",
   "execution_count": 32,
   "id": "acb98280",
   "metadata": {},
   "outputs": [],
   "source": [
    "def model(ml_model,mod_name,X_train,X_val):\n",
    "    '''\n",
    "    ml_model: ml model\n",
    "    mod_name: name of the model\n",
    "    X_train: X dataset\n",
    "    X_val: X dataset\n",
    "    '''\n",
    "    model = ml_model\n",
    "    model.fit(X_train,y_train.value)\n",
    "    pred = model.predict(X_train).round(1)\n",
    "    rmse_train =calc_rmse(y_train.value,pred)\n",
    "    pred = model.predict(X_val).round(1)\n",
    "    rmse_validate = calc_rmse(y_val.value,pred)\n",
    "    \n",
    "    return rmse_train,rmse_validate, mod_name"
   ]
  },
  {
   "cell_type": "code",
   "execution_count": 33,
   "id": "462c2dec",
   "metadata": {},
   "outputs": [],
   "source": [
    "def model_test(ml_model,mod_name,X_test):\n",
    "    model = ml_model\n",
    "    model.fit(X_train,y_train.value)\n",
    "    pred = model.predict(X_test).round(1)\n",
    "    rmse_test =calc_rmse(y_test.value,pred)\n",
    "    \n",
    "    return rmse_test"
   ]
  },
  {
   "cell_type": "code",
   "execution_count": 27,
   "id": "fb58c6b6",
   "metadata": {},
   "outputs": [],
   "source": [
    "# Create all of our models\n",
    "models= [LinearRegression(),LassoLars(alpha=.1),TweedieRegressor(power=0),TweedieRegressor(power=1)]\n",
    "mod_name = ['lm','lass','tweedie0','tweedie1']\n",
    "add_pf = ['_pf1','_pf2','_pf3']\n",
    "\n",
    "for m,n in zip(models,mod_name): #Creates models off our reg X_train/val sets\n",
    "    a,b,c = model(m,n,X_train,X_val)\n",
    "    mod.append(c) # Append values to our lists\n",
    "    rmse.append(a)\n",
    "    rmse_val.append(b)\n",
    "\n",
    "pfx = [X_train_pf1,X_train_pf2,X_train_pf3] #Creates models off of our pf1/pf2/pf3 X sets\n",
    "pfy = [X_val_pf1,X_val_pf2,X_val_pf3]\n",
    "\n",
    "\n",
    "for x,y,na in zip(pfx,pfy,add_pf):\n",
    "    for m,n in zip(models,mod_name):\n",
    "        name = n+na\n",
    "        a,b,c = model(m,name,x,y) # Call our function\n",
    "        mod.append(c) # Append values to our lists\n",
    "        rmse.append(a)\n",
    "        rmse_val.append(b)\n",
    "        \n",
    "        \n",
    "results = pd.DataFrame({'model':mod,'rmse_train':rmse,'rmse_val':rmse_val}) # Create df out of lists"
   ]
  },
  {
   "cell_type": "code",
   "execution_count": 35,
   "id": "3ba809bf",
   "metadata": {},
   "outputs": [
    {
     "data": {
      "text/html": [
       "<div>\n",
       "<style scoped>\n",
       "    .dataframe tbody tr th:only-of-type {\n",
       "        vertical-align: middle;\n",
       "    }\n",
       "\n",
       "    .dataframe tbody tr th {\n",
       "        vertical-align: top;\n",
       "    }\n",
       "\n",
       "    .dataframe thead th {\n",
       "        text-align: right;\n",
       "    }\n",
       "</style>\n",
       "<table border=\"1\" class=\"dataframe\">\n",
       "  <thead>\n",
       "    <tr style=\"text-align: right;\">\n",
       "      <th></th>\n",
       "      <th>model</th>\n",
       "      <th>rmse_train</th>\n",
       "      <th>rmse_val</th>\n",
       "    </tr>\n",
       "  </thead>\n",
       "  <tbody>\n",
       "    <tr>\n",
       "      <th>0</th>\n",
       "      <td>baseline</td>\n",
       "      <td>482893.931852</td>\n",
       "      <td>555441.062680</td>\n",
       "    </tr>\n",
       "    <tr>\n",
       "      <th>1</th>\n",
       "      <td>lm</td>\n",
       "      <td>395919.596809</td>\n",
       "      <td>462420.829034</td>\n",
       "    </tr>\n",
       "    <tr>\n",
       "      <th>2</th>\n",
       "      <td>lass</td>\n",
       "      <td>395919.613439</td>\n",
       "      <td>462428.800761</td>\n",
       "    </tr>\n",
       "    <tr>\n",
       "      <th>3</th>\n",
       "      <td>tweedie0</td>\n",
       "      <td>479646.502984</td>\n",
       "      <td>552505.891542</td>\n",
       "    </tr>\n",
       "    <tr>\n",
       "      <th>4</th>\n",
       "      <td>tweedie1</td>\n",
       "      <td>403715.542158</td>\n",
       "      <td>439255.881210</td>\n",
       "    </tr>\n",
       "  </tbody>\n",
       "</table>\n",
       "</div>"
      ],
      "text/plain": [
       "      model     rmse_train       rmse_val\n",
       "0  baseline  482893.931852  555441.062680\n",
       "1        lm  395919.596809  462420.829034\n",
       "2      lass  395919.613439  462428.800761\n",
       "3  tweedie0  479646.502984  552505.891542\n",
       "4  tweedie1  403715.542158  439255.881210"
      ]
     },
     "execution_count": 35,
     "metadata": {},
     "output_type": "execute_result"
    }
   ],
   "source": [
    "results.head()"
   ]
  },
  {
   "cell_type": "code",
   "execution_count": 30,
   "id": "dbee75f2",
   "metadata": {},
   "outputs": [
    {
     "data": {
      "text/html": [
       "<div>\n",
       "<style scoped>\n",
       "    .dataframe tbody tr th:only-of-type {\n",
       "        vertical-align: middle;\n",
       "    }\n",
       "\n",
       "    .dataframe tbody tr th {\n",
       "        vertical-align: top;\n",
       "    }\n",
       "\n",
       "    .dataframe thead th {\n",
       "        text-align: right;\n",
       "    }\n",
       "</style>\n",
       "<table border=\"1\" class=\"dataframe\">\n",
       "  <thead>\n",
       "    <tr style=\"text-align: right;\">\n",
       "      <th></th>\n",
       "      <th>model</th>\n",
       "      <th>rmse_train</th>\n",
       "      <th>rmse_val</th>\n",
       "    </tr>\n",
       "  </thead>\n",
       "  <tbody>\n",
       "    <tr>\n",
       "      <th>4</th>\n",
       "      <td>tweedie1</td>\n",
       "      <td>403715.542158</td>\n",
       "      <td>439255.881210</td>\n",
       "    </tr>\n",
       "    <tr>\n",
       "      <th>8</th>\n",
       "      <td>tweedie1_pf1</td>\n",
       "      <td>403713.974228</td>\n",
       "      <td>439256.609379</td>\n",
       "    </tr>\n",
       "    <tr>\n",
       "      <th>16</th>\n",
       "      <td>tweedie1_pf3</td>\n",
       "      <td>387124.467021</td>\n",
       "      <td>444093.628089</td>\n",
       "    </tr>\n",
       "    <tr>\n",
       "      <th>12</th>\n",
       "      <td>tweedie1_pf2</td>\n",
       "      <td>388216.926423</td>\n",
       "      <td>446743.412725</td>\n",
       "    </tr>\n",
       "    <tr>\n",
       "      <th>14</th>\n",
       "      <td>lass_pf3</td>\n",
       "      <td>390392.811754</td>\n",
       "      <td>451309.746400</td>\n",
       "    </tr>\n",
       "  </tbody>\n",
       "</table>\n",
       "</div>"
      ],
      "text/plain": [
       "           model     rmse_train       rmse_val\n",
       "4       tweedie1  403715.542158  439255.881210\n",
       "8   tweedie1_pf1  403713.974228  439256.609379\n",
       "16  tweedie1_pf3  387124.467021  444093.628089\n",
       "12  tweedie1_pf2  388216.926423  446743.412725\n",
       "14      lass_pf3  390392.811754  451309.746400"
      ]
     },
     "execution_count": 30,
     "metadata": {},
     "output_type": "execute_result"
    }
   ],
   "source": [
    "results.sort_values('rmse_val').head()"
   ]
  },
  {
   "cell_type": "markdown",
   "id": "04d84a2c",
   "metadata": {},
   "source": [
    "### We run our best model on the test set and receive a RMSE of 378565.84  \n",
    "Baseline: 555441.06   Model: 378565.84  Improvement: 176875.22 = 32%"
   ]
  },
  {
   "cell_type": "code",
   "execution_count": 34,
   "id": "2b2fe949",
   "metadata": {},
   "outputs": [
    {
     "data": {
      "text/plain": [
       "378565.8444928013"
      ]
     },
     "execution_count": 34,
     "metadata": {},
     "output_type": "execute_result"
    }
   ],
   "source": [
    "model_test(TweedieRegressor(power=1),'tweedie1',X_test)"
   ]
  },
  {
   "cell_type": "code",
   "execution_count": null,
   "id": "2d82b9e2",
   "metadata": {},
   "outputs": [],
   "source": []
  },
  {
   "cell_type": "code",
   "execution_count": null,
   "id": "d2d40d2c",
   "metadata": {},
   "outputs": [],
   "source": []
  }
 ],
 "metadata": {
  "kernelspec": {
   "display_name": "Python 3 (ipykernel)",
   "language": "python",
   "name": "python3"
  },
  "language_info": {
   "codemirror_mode": {
    "name": "ipython",
    "version": 3
   },
   "file_extension": ".py",
   "mimetype": "text/x-python",
   "name": "python",
   "nbconvert_exporter": "python",
   "pygments_lexer": "ipython3",
   "version": "3.9.7"
  }
 },
 "nbformat": 4,
 "nbformat_minor": 5
}
