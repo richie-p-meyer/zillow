{
 "cells": [
  {
   "cell_type": "code",
   "execution_count": 1,
   "id": "0307cc39",
   "metadata": {},
   "outputs": [],
   "source": [
    "from prepare import calc_rmse\n",
    "import prepare\n",
    "import acquire\n",
    "\n",
    "\n",
    "import pandas as pd\n",
    "import numpy as np\n",
    "\n",
    "import matplotlib.pyplot as plt\n",
    "import seaborn as sns\n",
    "\n",
    "from math import sqrt\n",
    "\n",
    "# hypothesis testing\n",
    "from scipy import stats\n",
    "\n",
    "# modeling methods\n",
    "from sklearn.metrics import mean_squared_error\n",
    "from sklearn.linear_model import LinearRegression, LassoLars, TweedieRegressor\n",
    "from sklearn.preprocessing import PolynomialFeatures\n",
    "\n",
    "import warnings\n",
    "warnings.filterwarnings(\"ignore\")\n",
    "\n",
    "import plotly.express as px"
   ]
  },
  {
   "cell_type": "code",
   "execution_count": 2,
   "id": "ab60e849",
   "metadata": {},
   "outputs": [],
   "source": [
    "df = acquire.get_zillow_2017()\n",
    "df = prepare.prepare_zillow(df)"
   ]
  },
  {
   "cell_type": "code",
   "execution_count": 13,
   "id": "3677886c",
   "metadata": {},
   "outputs": [
    {
     "data": {
      "text/html": [
       "<div>\n",
       "<style scoped>\n",
       "    .dataframe tbody tr th:only-of-type {\n",
       "        vertical-align: middle;\n",
       "    }\n",
       "\n",
       "    .dataframe tbody tr th {\n",
       "        vertical-align: top;\n",
       "    }\n",
       "\n",
       "    .dataframe thead th {\n",
       "        text-align: right;\n",
       "    }\n",
       "</style>\n",
       "<table border=\"1\" class=\"dataframe\">\n",
       "  <thead>\n",
       "    <tr style=\"text-align: right;\">\n",
       "      <th></th>\n",
       "      <th>bed</th>\n",
       "      <th>bath</th>\n",
       "      <th>squarefeet</th>\n",
       "      <th>lotsquarefeet</th>\n",
       "      <th>value</th>\n",
       "      <th>yearbuilt</th>\n",
       "      <th>fips</th>\n",
       "    </tr>\n",
       "  </thead>\n",
       "  <tbody>\n",
       "  </tbody>\n",
       "</table>\n",
       "</div>"
      ],
      "text/plain": [
       "Empty DataFrame\n",
       "Columns: [bed, bath, squarefeet, lotsquarefeet, value, yearbuilt, fips]\n",
       "Index: []"
      ]
     },
     "execution_count": 13,
     "metadata": {},
     "output_type": "execute_result"
    }
   ],
   "source": [
    "df[df.bath==0]"
   ]
  },
  {
   "cell_type": "code",
   "execution_count": 7,
   "id": "ebe5cb95",
   "metadata": {},
   "outputs": [],
   "source": [
    "train, X_train, y_train, X_val, y_val, X_test, y_test = prepare.split_data(df,'value')"
   ]
  },
  {
   "cell_type": "code",
   "execution_count": 15,
   "id": "0e348672",
   "metadata": {},
   "outputs": [
    {
     "data": {
      "text/html": [
       "<div>\n",
       "<style scoped>\n",
       "    .dataframe tbody tr th:only-of-type {\n",
       "        vertical-align: middle;\n",
       "    }\n",
       "\n",
       "    .dataframe tbody tr th {\n",
       "        vertical-align: top;\n",
       "    }\n",
       "\n",
       "    .dataframe thead th {\n",
       "        text-align: right;\n",
       "    }\n",
       "</style>\n",
       "<table border=\"1\" class=\"dataframe\">\n",
       "  <thead>\n",
       "    <tr style=\"text-align: right;\">\n",
       "      <th></th>\n",
       "      <th>bed</th>\n",
       "      <th>bath</th>\n",
       "      <th>squarefeet</th>\n",
       "      <th>lotsquarefeet</th>\n",
       "      <th>yearbuilt</th>\n",
       "      <th>fips_6059.0</th>\n",
       "      <th>fips_6111.0</th>\n",
       "    </tr>\n",
       "  </thead>\n",
       "  <tbody>\n",
       "    <tr>\n",
       "      <th>9519</th>\n",
       "      <td>0.222222</td>\n",
       "      <td>0.0</td>\n",
       "      <td>0.057973</td>\n",
       "      <td>0.000707</td>\n",
       "      <td>0.518519</td>\n",
       "      <td>1.0</td>\n",
       "      <td>0.0</td>\n",
       "    </tr>\n",
       "    <tr>\n",
       "      <th>16947</th>\n",
       "      <td>0.000000</td>\n",
       "      <td>0.0</td>\n",
       "      <td>0.041978</td>\n",
       "      <td>0.000270</td>\n",
       "      <td>0.444444</td>\n",
       "      <td>1.0</td>\n",
       "      <td>0.0</td>\n",
       "    </tr>\n",
       "    <tr>\n",
       "      <th>18231</th>\n",
       "      <td>0.222222</td>\n",
       "      <td>0.0</td>\n",
       "      <td>0.058461</td>\n",
       "      <td>0.000934</td>\n",
       "      <td>0.555556</td>\n",
       "      <td>0.0</td>\n",
       "      <td>0.0</td>\n",
       "    </tr>\n",
       "    <tr>\n",
       "      <th>15098</th>\n",
       "      <td>0.222222</td>\n",
       "      <td>0.0</td>\n",
       "      <td>0.056025</td>\n",
       "      <td>0.000660</td>\n",
       "      <td>0.481481</td>\n",
       "      <td>0.0</td>\n",
       "      <td>0.0</td>\n",
       "    </tr>\n",
       "    <tr>\n",
       "      <th>27647</th>\n",
       "      <td>0.111111</td>\n",
       "      <td>0.0</td>\n",
       "      <td>0.058379</td>\n",
       "      <td>0.000760</td>\n",
       "      <td>0.333333</td>\n",
       "      <td>1.0</td>\n",
       "      <td>0.0</td>\n",
       "    </tr>\n",
       "    <tr>\n",
       "      <th>...</th>\n",
       "      <td>...</td>\n",
       "      <td>...</td>\n",
       "      <td>...</td>\n",
       "      <td>...</td>\n",
       "      <td>...</td>\n",
       "      <td>...</td>\n",
       "      <td>...</td>\n",
       "    </tr>\n",
       "    <tr>\n",
       "      <th>5093</th>\n",
       "      <td>0.222222</td>\n",
       "      <td>0.0</td>\n",
       "      <td>0.067636</td>\n",
       "      <td>0.000601</td>\n",
       "      <td>0.318519</td>\n",
       "      <td>0.0</td>\n",
       "      <td>0.0</td>\n",
       "    </tr>\n",
       "    <tr>\n",
       "      <th>49882</th>\n",
       "      <td>0.222222</td>\n",
       "      <td>0.0</td>\n",
       "      <td>0.058542</td>\n",
       "      <td>0.000915</td>\n",
       "      <td>0.474074</td>\n",
       "      <td>0.0</td>\n",
       "      <td>0.0</td>\n",
       "    </tr>\n",
       "    <tr>\n",
       "      <th>48620</th>\n",
       "      <td>0.222222</td>\n",
       "      <td>0.0</td>\n",
       "      <td>0.062114</td>\n",
       "      <td>0.001185</td>\n",
       "      <td>0.555556</td>\n",
       "      <td>0.0</td>\n",
       "      <td>0.0</td>\n",
       "    </tr>\n",
       "    <tr>\n",
       "      <th>31905</th>\n",
       "      <td>0.222222</td>\n",
       "      <td>0.0</td>\n",
       "      <td>0.054238</td>\n",
       "      <td>0.000659</td>\n",
       "      <td>0.533333</td>\n",
       "      <td>0.0</td>\n",
       "      <td>0.0</td>\n",
       "    </tr>\n",
       "    <tr>\n",
       "      <th>4961</th>\n",
       "      <td>0.111111</td>\n",
       "      <td>0.0</td>\n",
       "      <td>0.066580</td>\n",
       "      <td>0.000746</td>\n",
       "      <td>0.496296</td>\n",
       "      <td>0.0</td>\n",
       "      <td>0.0</td>\n",
       "    </tr>\n",
       "  </tbody>\n",
       "</table>\n",
       "<p>5235 rows × 7 columns</p>\n",
       "</div>"
      ],
      "text/plain": [
       "            bed  bath  squarefeet  lotsquarefeet  yearbuilt  fips_6059.0  \\\n",
       "9519   0.222222   0.0    0.057973       0.000707   0.518519          1.0   \n",
       "16947  0.000000   0.0    0.041978       0.000270   0.444444          1.0   \n",
       "18231  0.222222   0.0    0.058461       0.000934   0.555556          0.0   \n",
       "15098  0.222222   0.0    0.056025       0.000660   0.481481          0.0   \n",
       "27647  0.111111   0.0    0.058379       0.000760   0.333333          1.0   \n",
       "...         ...   ...         ...            ...        ...          ...   \n",
       "5093   0.222222   0.0    0.067636       0.000601   0.318519          0.0   \n",
       "49882  0.222222   0.0    0.058542       0.000915   0.474074          0.0   \n",
       "48620  0.222222   0.0    0.062114       0.001185   0.555556          0.0   \n",
       "31905  0.222222   0.0    0.054238       0.000659   0.533333          0.0   \n",
       "4961   0.111111   0.0    0.066580       0.000746   0.496296          0.0   \n",
       "\n",
       "       fips_6111.0  \n",
       "9519           0.0  \n",
       "16947          0.0  \n",
       "18231          0.0  \n",
       "15098          0.0  \n",
       "27647          0.0  \n",
       "...            ...  \n",
       "5093           0.0  \n",
       "49882          0.0  \n",
       "48620          0.0  \n",
       "31905          0.0  \n",
       "4961           0.0  \n",
       "\n",
       "[5235 rows x 7 columns]"
      ]
     },
     "execution_count": 15,
     "metadata": {},
     "output_type": "execute_result"
    }
   ],
   "source": [
    "X_train[X_train.bath==0]"
   ]
  },
  {
   "cell_type": "code",
   "execution_count": null,
   "id": "7182c9c8",
   "metadata": {},
   "outputs": [],
   "source": [
    "train.head()"
   ]
  },
  {
   "cell_type": "code",
   "execution_count": null,
   "id": "f2905cab",
   "metadata": {},
   "outputs": [],
   "source": [
    "X_train[X_train.bath==0]"
   ]
  },
  {
   "cell_type": "code",
   "execution_count": null,
   "id": "024314e8",
   "metadata": {},
   "outputs": [],
   "source": [
    "# Loop through X sets and apply new_features function\n",
    "X_sets = [X_train,X_val,X_test]\n",
    "for x in X_sets:\n",
    "    x = prepare.new_features(x)"
   ]
  },
  {
   "cell_type": "code",
   "execution_count": null,
   "id": "29a25f5a",
   "metadata": {},
   "outputs": [],
   "source": [
    "train.shape, X_train.shape, y_train.shape, X_val.shape, y_val.shape, X_test.shape, y_test.shape"
   ]
  },
  {
   "cell_type": "markdown",
   "id": "75770e7b",
   "metadata": {},
   "source": [
    "### Four Questions:  \n",
    "1. Are newer houses worth more?\n",
    "2. Does increasing the amount of beds and baths per squarefeet change the value?\n",
    "3. Does increasing lot size increase value?\n",
    "4. Does the percentage of house sq ft per lot sq ft change the value?"
   ]
  },
  {
   "cell_type": "markdown",
   "id": "1d18a2d9",
   "metadata": {},
   "source": [
    "# Are newer houses worth more?  \n",
    "Continuous vs continous = pearson R, scatter"
   ]
  },
  {
   "cell_type": "code",
   "execution_count": null,
   "id": "d0d40737",
   "metadata": {},
   "outputs": [],
   "source": [
    "#px.scatter(train.yearbuilt,train.value)\n",
    "plt.scatter(train.yearbuilt,train.value)\n"
   ]
  },
  {
   "cell_type": "code",
   "execution_count": null,
   "id": "48be7437",
   "metadata": {},
   "outputs": [],
   "source": [
    "corr, p = stats.pearsonr(train.yearbuilt, train.value)\n",
    "corr, p"
   ]
  },
  {
   "cell_type": "markdown",
   "id": "e4d90a0f",
   "metadata": {},
   "source": [
    "### It's hard to see correlation in the scatter plot but using pearsonsr confirms a relationship"
   ]
  },
  {
   "cell_type": "markdown",
   "id": "2101d41e",
   "metadata": {},
   "source": [
    "# Does increasing the amount of beds and baths per squarefeet change the value?"
   ]
  },
  {
   "cell_type": "code",
   "execution_count": null,
   "id": "21656b7b",
   "metadata": {},
   "outputs": [],
   "source": [
    "train['bb_sqft'] = (train['bed']+train['bath'])/train['squarefeet']"
   ]
  },
  {
   "cell_type": "code",
   "execution_count": null,
   "id": "098cb6eb",
   "metadata": {},
   "outputs": [],
   "source": [
    "train.head()"
   ]
  },
  {
   "cell_type": "code",
   "execution_count": null,
   "id": "f69aca99",
   "metadata": {},
   "outputs": [],
   "source": [
    "plt.scatter(train.bb_sqft,train.value)"
   ]
  },
  {
   "cell_type": "code",
   "execution_count": null,
   "id": "950515f3",
   "metadata": {},
   "outputs": [],
   "source": [
    "corr, p = stats.pearsonr(train.bb_sqft, train.value)\n",
    "corr, p"
   ]
  },
  {
   "cell_type": "markdown",
   "id": "3758e662",
   "metadata": {},
   "source": [
    "### The plot looks like there might be a negative correlation between bb/sqft and value. Pearson R confirms this is the case"
   ]
  },
  {
   "cell_type": "markdown",
   "id": "132ff182",
   "metadata": {},
   "source": [
    "# Does increasing lot size increase value?"
   ]
  },
  {
   "cell_type": "code",
   "execution_count": null,
   "id": "7b1db48f",
   "metadata": {},
   "outputs": [],
   "source": [
    "plt.scatter(train.lotsquarefeet,train.value)"
   ]
  },
  {
   "cell_type": "code",
   "execution_count": null,
   "id": "c8f305d2",
   "metadata": {},
   "outputs": [],
   "source": [
    "alpha = .05\n",
    "corr, p = stats.pearsonr(train.lotsquarefeet, train.value)\n",
    "print(f'alpha: {alpha}')\n",
    "print(f'p: {p/2}')\n",
    "print('corr is positive and p<alpha so we can say that greater lotsquarefeet increases the value')\n",
    "\n"
   ]
  },
  {
   "cell_type": "markdown",
   "id": "75d08233",
   "metadata": {},
   "source": [
    "# Does the percentage of house sq ft per lot sq ft change the value?"
   ]
  },
  {
   "cell_type": "code",
   "execution_count": null,
   "id": "094d35c6",
   "metadata": {},
   "outputs": [],
   "source": [
    "train['hsf_lsf'] = train.squarefeet/train.lotsquarefeet"
   ]
  },
  {
   "cell_type": "code",
   "execution_count": null,
   "id": "ff5dfcfe",
   "metadata": {},
   "outputs": [],
   "source": [
    "plt.scatter(train.hsf_lsf,train.value)"
   ]
  },
  {
   "cell_type": "code",
   "execution_count": null,
   "id": "58df9507",
   "metadata": {},
   "outputs": [],
   "source": [
    "alpha = .05\n",
    "corr, p = stats.pearsonr(train.hsf_lsf, train.value)\n",
    "corr,p"
   ]
  },
  {
   "cell_type": "markdown",
   "id": "8eb892b2",
   "metadata": {},
   "source": [
    "Houses that occupy a larger percentage of the lot size are worth more than when lot size is larger and house size smaller"
   ]
  },
  {
   "cell_type": "markdown",
   "id": "e15ba72d",
   "metadata": {},
   "source": [
    "# Let's run some models!"
   ]
  },
  {
   "cell_type": "code",
   "execution_count": null,
   "id": "201dbf29",
   "metadata": {},
   "outputs": [],
   "source": [
    "# Establish baseline predictions \n",
    "y_train['base_mean'] = round(y_train.value.mean(),1)\n",
    "y_train['base_median'] = round(y_train.value.median(),1)\n",
    "\n",
    "# Evaluate baseline models using RMSE - we will use Mean as the baseline\n",
    "rmse_train_mean = calc_rmse(y_train.value,y_train.base_mean)\n",
    "rmse_train_median = calc_rmse(y_train.value, y_train.base_median)\n",
    "\n",
    "print('RMSE Mean: '),print(rmse_train_mean)\n",
    "print('\\n')\n",
    "print('RMSE Median: '),print(rmse_train_median)\n",
    "\n",
    "# Create a dict to store rmse values from our models\n",
    "rmse = {'baseline':rmse_train_mean}\n",
    "rmse_val = {}"
   ]
  },
  {
   "cell_type": "code",
   "execution_count": null,
   "id": "ab9ba65e",
   "metadata": {},
   "outputs": [],
   "source": [
    "y_train.head()"
   ]
  },
  {
   "cell_type": "code",
   "execution_count": null,
   "id": "7a09ad75",
   "metadata": {},
   "outputs": [],
   "source": [
    "X_train[X_train.bed==0]"
   ]
  },
  {
   "cell_type": "code",
   "execution_count": null,
   "id": "8f7b2624",
   "metadata": {},
   "outputs": [],
   "source": [
    "models= [LinearRegression(),LassoLars(alpha=.1),TweedieRegressor(power=0),TweedieRegressor(power=1)]\n",
    "preds = []\n",
    "for m in models:\n",
    "    model = m\n",
    "    print(type(model))\n",
    "    model.fit(X_train, y_train.value)\n",
    "    \n",
    " \n",
    "\n"
   ]
  },
  {
   "cell_type": "code",
   "execution_count": null,
   "id": "5e8d6d56",
   "metadata": {},
   "outputs": [],
   "source": [
    "    model.fit(X_train, y_train.value\n",
    "    model.predict(X_train).round(1))"
   ]
  }
 ],
 "metadata": {
  "kernelspec": {
   "display_name": "Python 3 (ipykernel)",
   "language": "python",
   "name": "python3"
  },
  "language_info": {
   "codemirror_mode": {
    "name": "ipython",
    "version": 3
   },
   "file_extension": ".py",
   "mimetype": "text/x-python",
   "name": "python",
   "nbconvert_exporter": "python",
   "pygments_lexer": "ipython3",
   "version": "3.9.7"
  }
 },
 "nbformat": 4,
 "nbformat_minor": 5
}
